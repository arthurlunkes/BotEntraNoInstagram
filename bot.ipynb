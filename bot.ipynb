{
 "cells": [
  {
   "cell_type": "code",
   "execution_count": null,
   "metadata": {},
   "outputs": [],
   "source": [
    "usuario = 'seuUsuarioAqui'\n",
    "senha = 'suaAqui'"
   ]
  },
  {
   "cell_type": "code",
   "execution_count": 51,
   "metadata": {},
   "outputs": [],
   "source": [
    "import time\n",
    "from selenium import webdriver"
   ]
  },
  {
   "cell_type": "code",
   "execution_count": null,
   "metadata": {},
   "outputs": [],
   "source": [
    "driver = webdriver.Chrome(executable_path='./chromedriver')"
   ]
  },
  {
   "cell_type": "code",
   "execution_count": 52,
   "metadata": {},
   "outputs": [],
   "source": [
    "driver.get('https://www.instagram.com/')\n",
    "\n",
    "time.sleep(2)\n",
    "\n",
    "user = driver.find_element_by_xpath(xpath='//*[@id=\"loginForm\"]/div/div[1]/div/label/input')\n",
    "user.send_keys(usuario)\n",
    "\n",
    "password = driver.find_element_by_xpath(xpath='//*[@id=\"loginForm\"]/div/div[2]/div/label/input')\n",
    "password.send_keys(senha)\n",
    "\n",
    "entrar = driver.find_element_by_xpath(xpath='/html/body/div[2]/div/div/div[1]/div/div/div/div[1]/section/main/article/div[2]/div[1]/div[2]/form/div/div[3]/button')\n",
    "entrar.click()\n",
    "\n",
    "time.sleep(8)\n",
    "\n",
    "botao_pesquisar = driver.find_element_by_xpath(xpath='/html/body/div[2]/div/div/div[2]/div/div/div/div[1]/div[1]/div[1]/div/div/div/div/div[2]/div[2]/div/a/div')\n",
    "botao_pesquisar.click()\n",
    "\n",
    "time.sleep(1)\n",
    "\n",
    "pesquisa_user = driver.find_element_by_xpath(xpath='/html/body/div[2]/div/div/div[2]/div/div/div/div[1]/div[1]/div[1]/div/div/div[2]/div/div/div[2]/div[1]/div/input')\n",
    "pesquisa_user.send_keys('sistemas.unimater')\n",
    "\n",
    "time.sleep(1)\n",
    "\n",
    "primeiro_result = driver.find_element_by_xpath(xpath='/html/body/div[2]/div/div/div[2]/div/div/div/div[1]/div[1]/div[1]/div/div/div[2]/div/div/div[2]/div[2]/div/div[1]/a/div')\n",
    "primeiro_result.click()"
   ]
  }
 ],
 "metadata": {
  "kernelspec": {
   "display_name": "Python 3",
   "language": "python",
   "name": "python3"
  },
  "language_info": {
   "codemirror_mode": {
    "name": "ipython",
    "version": 3
   },
   "file_extension": ".py",
   "mimetype": "text/x-python",
   "name": "python",
   "nbconvert_exporter": "python",
   "pygments_lexer": "ipython3",
   "version": "3.10.10"
  },
  "orig_nbformat": 4
 },
 "nbformat": 4,
 "nbformat_minor": 2
}
